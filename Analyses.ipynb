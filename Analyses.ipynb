{
 "cells": [
  {
   "cell_type": "markdown",
   "metadata": {},
   "source": [
    "## Analyses Scripts\n",
    "\n",
    "##### Author: A. Zarkali\n",
    "##### Date of last update: 14/03/2020\n",
    "##### Aim: Compare gradients and SCFC across groups"
   ]
  },
  {
   "cell_type": "code",
   "execution_count": 2,
   "metadata": {},
   "outputs": [],
   "source": [
    "# Import all necessary libraries\n",
    "import pandas as pd\n",
    "import numpy as np\n",
    "import matplotlib.pyplot as plt\n",
    "import scipy.stats as stats\n",
    "from scipy.stats import norm\n",
    "from scipy.stats import shapiro\n",
    "from scipy.stats import percentileofscore\n",
    "import statsmodels.api as sm\n",
    "#import statsmodels.formula.api as sm\n",
    "from statsmodels.formula.api import ols\n",
    "from pathlib import Path\n",
    "import seaborn as sns\n",
    "# Enable inline plotting\n",
    "%matplotlib inline"
   ]
  },
  {
   "cell_type": "code",
   "execution_count": 5,
   "metadata": {},
   "outputs": [],
   "source": [
    "### Participant Lists\n",
    "# Load clinical information\n",
    "clin = pd.read_excel(r\"C:\\Users\\Angelika\\Dropbox\\PhD\\PAPERS\\Publications\\Structure-Function\\NatureComms\\SupplementaryData1\\Figure2\\Data\\ClinicalInformation.xlsx\")\n",
    "sfc = pd.read_csv(r\"C:\\Users\\Angelika\\Dropbox\\PhD\\PAPERS\\Publications\\Structure-Function\\NatureComms\\SupplementaryData1\\Figure2\\Data\\StructureFuction.csv\", index_col=0)\n",
    "# Select controls only\n",
    "controls = clin[clin.PD==0].ParticipantNumber\n",
    "HighVis = clin[(clin.PD == 1) & (clin.PD_VisPerf == 0)].ParticipantNumber\n",
    "LowVis = clin[(clin.PD == 1) & (clin.PD_VisPerf == 1)].ParticipantNumber\n",
    "All = clin.ParticipantNumber"
   ]
  },
  {
   "cell_type": "code",
   "execution_count": 4,
   "metadata": {},
   "outputs": [],
   "source": [
    "### Load files\n",
    "### SCFC data\n",
    "df1 = pd.read_csv(r\"C:/Users/Angelika/Dropbox/PhD/EXPERIMENTS/04_StructureFunction/ANALYSES/StructureFunction/StructureFuction_Spearman_Bin_Exc210.csv\", index_col=0)\n",
    "df1 = df1.transpose() # structure/function and ranks only\n",
    "df1 = df1.replace(np.nan, 0)\n",
    "### Clinical data\n",
    "df2 = pd.read_excel(r\"C:/Users/Angelika/Dropbox/PhD/EXPERIMENTS/04_StructureFunction/DATA/DataIncluded_Combined_Exc210.xlsx\", index_col=0)\n",
    "### Merge together to signle dataframe\n",
    "df = pd.concat([df2, df1], axis=1)\n",
    "### Load subgroup databases\n",
    "dfPD = df[df.PD == 1] #PD only\n",
    "dfControl = df[df.PD == 0]"
   ]
  },
  {
   "cell_type": "markdown",
   "metadata": {},
   "source": [
    "#### Mixed Linear Model across nodes"
   ]
  },
  {
   "cell_type": "code",
   "execution_count": null,
   "metadata": {},
   "outputs": [],
   "source": [
    "# #Mixed linear model\n",
    "# #which dataframe group to compare\n",
    "data = dfPD\n",
    "parameter = \"PD_VisPerf\"\n",
    "\n",
    "# Declare dummy group to fit intercept variables\n",
    "data[\"group\"] = 1  \n",
    "# Dummy variables\n",
    "vc = {\"Age\": \"0 +C(Age)\", \"Gender\":\"0+C(Gender)\"}\n",
    "\n",
    "# Declare empty lists\n",
    "pvalues = []\n",
    "coefficients = []\n",
    "lowerCI = []\n",
    "upperCI = []\n",
    "# loop through all nodes:\n",
    "for i in range(1,401): # change for cortical gradients to 400\n",
    "    formula = \"Node\" + str(i) + \" ~ \" + parameter \n",
    "    md = sm.MixedLM.from_formula(formula, data=data, re_formula=\"0\", vc_formula=vc, groups=data[\"group\"])\n",
    "    mdf = md.fit()\n",
    "    p = mdf.pvalues[1]\n",
    "    coef = (mdf.conf_int().loc[parameter]).mean()\n",
    "    lower = (mdf.conf_int().loc[parameter])[0]\n",
    "    upper = (mdf.conf_int().loc[parameter])[1]\n",
    "    pvalues.append(p)\n",
    "    coefficients.append(coef)\n",
    "    lowerCI.append(lower)\n",
    "    upperCI.append(upper)\n",
    "#FDR correct\n",
    "FDR = sm.stats.multipletests(pvalues, is_sorted=False, alpha=0.05, method=\"fdr_bh\", returnsorted=False)\n",
    "\n",
    "# Merge to Dataframe and export as csv\n",
    "outdata = pd.DataFrame(data=np.zeros((400,0))) # change for cortical gradients to 400\n",
    "outdata[\"Coef\"] = coefficients\n",
    "outdata[\"lowerCI\"] = lowerCI\n",
    "outdata[\"upperCI\"] = upperCI\n",
    "outdata[\"pValues\"] = pvalues\n",
    "outdata[\"FDR\"] = FDR[1]\n",
    "outname = \"SCFC_Schaeffer\" + parameter + \".csv\"\n",
    "outdata.to_csv(outname)"
   ]
  },
  {
   "cell_type": "markdown",
   "metadata": {},
   "source": [
    "#### SC-FC across whole networks"
   ]
  },
  {
   "cell_type": "code",
   "execution_count": null,
   "metadata": {},
   "outputs": [],
   "source": [
    "## Test SC-FC coupling across the whole network\n",
    "# Add a column of mean SC-FC values across all 400 nodes\n",
    "data = df\n",
    "data[\"MeanSCFC\"] = sfc.mean(axis=1)\n",
    "## ANCOVA with age and gender as covariates\n",
    "parameter = \"C(PD)\" ### Parameter to check - change this as needed\n",
    "data[\"group\"] = 1\n",
    "vc = {\"Age\": \"0 +C(Age)\", \"Gender\":\"0+C(Gender)\"}\n",
    "formula = \"MeanSCFC ~ \" + parameter + \" + Age + C(Gender)\"\n",
    "md = sm.OLS.from_formula(formula=formula, data=data)\n",
    "mdf = md.fit()\n",
    "mdf.summary()"
   ]
  },
  {
   "cell_type": "markdown",
   "metadata": {},
   "source": [
    "#### Spin permutations"
   ]
  },
  {
   "cell_type": "code",
   "execution_count": null,
   "metadata": {},
   "outputs": [],
   "source": [
    "# Load permutations\n",
    "permutation = pd.read_csv(r\"C:/Users/Angelika/Dropbox/PhD/EXPERIMENTS/04_StructureFunction/SCRIPTS/permutations_Glasser.txt\", header = None, delimiter=\" \")\n",
    "df1 = pd.read_csv(r\"C:/Users/Angelika/Dropbox/PhD/EXPERIMENTS/04_StructureFunction/DATA/GRADIENTS/Glasser/FunctionalGradientOne_Glasser.csv\", index_col=0)\n",
    "#df1 = pd.read_csv(r\"C:/Users/Angelika/Dropbox/PhD/EXPERIMENTS/04_StructureFunction/ANALYSES\\Gradients\\Functional\\NA\\FunctionalGradient_PD_Grad2_NA.csv\", index_col=0')\n",
    "#corDF = pd.read_csv(r\"C:/Users/Angelika/Dropbox/PhD/EXPERIMENTS/04_StructureFunction/ANALYSES/StructureFunction/StructureFuction_Spearman_Glasser.csv\", index_col=0)\n",
    "corDF = pd.read_csv(r\"C:/Users/Angelika/Dropbox/PhD/EXPERIMENTS/04_StructureFunction/ANALYSES/StructureFunction/Glasser/StructureFunction_Glasser_PD.csv\", index_col=0)\n",
    "df1 = df1.transpose()\n",
    "df1 = df1[PD]\n",
    "df1 = df1.replace(np.nan,0)\n",
    "grad = df1.mean(axis=1)\n",
    "cor = corDF.Coef ### for the change gradients files\n",
    "\n",
    "n_roi = 360 # Glasser 360, Schaeffer  400\n",
    "n_perm = 1000\n",
    "r_spin = np.empty(n_perm)\n",
    "r_obs, p_obs = stats.spearmanr(cor, grad)\n",
    "\n",
    "for i in range(n_perm):\n",
    "    rotated_index = permutation[i]\n",
    "    perm = np.empty(n_roi)\n",
    "    for j in range(n_roi):\n",
    "        perm[j] = cor[(rotated_index[j] - 1)] # -1 as starting from 0\n",
    "    r_spin[i] = stats.spearmanr(perm, grad)[0]\n",
    "pv_spin = np.mean(np.abs(r_spin) >= np.abs(r_obs))\n",
    "r_obs, pv_spin"
   ]
  },
  {
   "cell_type": "markdown",
   "metadata": {},
   "source": [
    "#### Genetics"
   ]
  },
  {
   "cell_type": "code",
   "execution_count": null,
   "metadata": {},
   "outputs": [],
   "source": [
    "# ### Load genetic data\n",
    "data = pd.read_csv(r\"C:/Users/Angelika/Dropbox/PhD/EXPERIMENTS/04_StructureFunction/DATA/Atlas/GeneExpression/schaeffer_expression_mirror.csv\")\n",
    "# Define Transmitters into lists\n",
    "norepinephrine = [\"ADRA1A\", \"ADRA1B\", \"ADRA1D\", \"ADRA2A\",\"ADRA2C\"]\n",
    "acetylcholine = [\"CHRM1\", \"CHRM2\", \"CHRM3\", \"CHRM4\", \"CHRM5\", \"CHRNA2\", \"CHRNA3\", \"CHRNA4\", \"CHRNA6\", \"CHRNA7\", \"CHRNA10\", \"CHRNB1\", \"CHRNB2\"]\n",
    "dopamine = [\"DRD1\", \"DRD2\", \"DRD4\"]\n",
    "serotonin = [\"HTR1A\", \"HTR1E\", \"HTR1F\", \"HTR2A\", \"HTR2C\", \"HTR3B\", \"HTR3C\", \"HTR4\", \"HTR5A\", \"HTR7\"]\n",
    "excluded = ['CHRND', 'CHRNA5', 'DRD5', 'ADRA2B', 'CHRNA1', 'CHRNB3', 'CHRNE', 'CHRNA9', 'DRD3', \"HTR1B\", 'HTR1D', 'HTR2B', 'HTR3A', 'HTR3D', 'HTR3E', 'HTR5B', 'HTR6']\n",
    "# Select and save transmitters only\n",
    "allTransmitter = norepinephrine + acetylcholine + dopamine + serotonin\n",
    "data = data[allTransmitter]\n",
    "# Concatenate with SCFC and clinical data\n",
    "df = pd.concat([df,data], axis=1)"
   ]
  },
  {
   "cell_type": "code",
   "execution_count": null,
   "metadata": {},
   "outputs": [],
   "source": [
    "# Concatenate with SCFC and clinical data\n",
    "df = pd.read_csv(r\"C:/Users/Angelika/Dropbox/PhD/EXPERIMENTS/04_StructureFunction/ANALYSES/StructureFunction/Glasser/StructureFunction_PD_VisPerf.csv\", index_col=0)\n",
    "data[\"Coef\"] = df.Coef.values\n",
    "df = pd.concat([df,data], axis=1)"
   ]
  },
  {
   "cell_type": "code",
   "execution_count": null,
   "metadata": {},
   "outputs": [],
   "source": [
    "### Compare SCFC changes with regional gene expression\n",
    "rho = np.zeros(len(allTransmitter))\n",
    "pvals = np.zeros(len(allTransmitter))\n",
    "for i in range(len(allTransmitter)):\n",
    "    copy = data\n",
    "    copy = copy[np.isfinite(copy[str(allTransmitter[i])])]\n",
    "    v1 = copy.Coef\n",
    "    v2 = copy[allTransmitter[i]]\n",
    "    r, p = stats.spearmanr(v1,v2)\n",
    "    rho[i] = r\n",
    "    pvals[i] = p\n",
    "FDR = sm.stats.multipletests(pvals, is_sorted=False, alpha=0.05, method=\"fdr_bh\", returnsorted=False)\n",
    "# Export data\n",
    "exportData = pd.DataFrame(data=allTransmitter)\n",
    "exportData[\"rho\"] = rho \n",
    "exportData[\"pValue\"] = pvals\n",
    "exportData[\"FDR\"] = FDR[1]\n",
    "exportData.to_csv(\"Transmitter_SF_PD_VisPerf.csv\")"
   ]
  }
 ],
 "metadata": {
  "kernelspec": {
   "display_name": "Python 3",
   "language": "python",
   "name": "python3"
  },
  "language_info": {
   "codemirror_mode": {
    "name": "ipython",
    "version": 3
   },
   "file_extension": ".py",
   "mimetype": "text/x-python",
   "name": "python",
   "nbconvert_exporter": "python",
   "pygments_lexer": "ipython3",
   "version": "3.7.6"
  }
 },
 "nbformat": 4,
 "nbformat_minor": 4
}
