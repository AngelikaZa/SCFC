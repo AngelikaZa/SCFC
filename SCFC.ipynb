{
 "cells": [
  {
   "cell_type": "markdown",
   "metadata": {},
   "source": [
    "## Structure Function Coupling\n",
    "\n",
    "##### Author: A. Zarkali\n",
    "##### Date of last update: 14/03/2020\n",
    "##### Aim: Extract cortical-gradients and structure-function coupling scores for each connection"
   ]
  },
  {
   "cell_type": "code",
   "execution_count": 1,
   "metadata": {},
   "outputs": [],
   "source": [
    "# Import all necessary libraries\n",
    "import pandas as pd\n",
    "import numpy as np\n",
    "import matplotlib.pyplot as plt\n",
    "from pathlib import Path\n",
    "import scipy.stats as stats\n",
    "import statsmodels.api as sm\n",
    "import seaborn as sns"
   ]
  },
  {
   "cell_type": "code",
   "execution_count": 3,
   "metadata": {},
   "outputs": [],
   "source": [
    "### Participant Lists\n",
    "# Load clinical information\n",
    "clin = pd.read_excel(r\"C:\\Users\\Angelika\\Dropbox\\PhD\\PAPERS\\Publications\\Structure-Function\\NatureComms\\SupplementaryData1\\Figure2\\Data\\ClinicalInformation.xlsx\")\n",
    "# Select controls only\n",
    "controls = clin[clin.PD==0].ParticipantNumber\n",
    "HighVis = clin[(clin.PD == 1) & (clin.PD_VisPerf == 0)].ParticipantNumber\n",
    "LowVis = clin[(clin.PD == 1) & (clin.PD_VisPerf == 1)].ParticipantNumber\n",
    "All = clin.ParticipantNumber"
   ]
  },
  {
   "cell_type": "code",
   "execution_count": null,
   "metadata": {},
   "outputs": [],
   "source": [
    "# Calculate Structure Function per connection\n",
    "#Load data\n",
    "rootdir = Path(r\"C:\\Users\\Angelika\\Dropbox\\PhD\\EXPERIMENTS\\04_StructureFunction\\DATA\")\n",
    "df = pd.DataFrame(data=np.zeros((400,0)))\n",
    "\n",
    "for j in range(len(All)):\n",
    "    filenameStruct = rootdir / \"STRUCTURE\" / All[j] / \"shaefer_connectome_norm_400.csv\"\n",
    "    filenameFunc = rootdir / \"FUNCTION\" / \"RawConnectomes400\" / (str(All[j]) + \"_FuncConnectome_400_norm_bin.csv\")\n",
    "    struct = pd.read_csv(filenameStruct, index_col=0)\n",
    "    func = pd.read_csv(filenameFunc, index_col=0)\n",
    "    func = func.replace([np.inf], 0)\n",
    "\n",
    "    # calculate spearman correlation for each region\n",
    "    cor = [] # empty list to hold correlations\n",
    "    pval = [] # empty list to hold p values\n",
    "    for l in range(400):\n",
    "        v1 = struct.iloc[l] # vector of structural connectivity for a region\n",
    "        v2 = func.iloc[l] # vector of structural connectivity for the same region\n",
    "        # select non-zero elements only\n",
    "        ind = []\n",
    "        for l in range(400):\n",
    "            if (v1[l] != 0) and (v2[l] != 0):\n",
    "                ind.append(l)\n",
    "        v1=v1[ind]\n",
    "        v2=v2[ind]\n",
    "        # spearman correlation\n",
    "        rho, p = stats.spearmanr(v1, v2)\n",
    "        cor.append(rho) # append to correlation list\n",
    "        pval.append(p) # append to p value list\n",
    "    # FDR correction\n",
    "    fdr = sm.stats.multipletests(pval, is_sorted=False, alpha=0.05, method=\"fdr_bh\", returnsorted=False)\n",
    "    # Combine to a dataframe\n",
    "    df = pd.DataFrame(cor, columns=[\"Rho\"], index=[k for k in range(1,401)])\n",
    "    df[\"Pvalue\"] = pval\n",
    "    df[\"FDR\"] = fdr[1]\n",
    "    cor=np.array(cor)\n",
    "    df[str(All[j])] = cor\n",
    "# Save to file\n",
    "df.to_csv(\"StructureFuction_Spearman_Bin.csv\")"
   ]
  },
  {
   "cell_type": "code",
   "execution_count": null,
   "metadata": {},
   "outputs": [],
   "source": []
  }
 ],
 "metadata": {
  "kernelspec": {
   "display_name": "Python 3",
   "language": "python",
   "name": "python3"
  },
  "language_info": {
   "codemirror_mode": {
    "name": "ipython",
    "version": 3
   },
   "file_extension": ".py",
   "mimetype": "text/x-python",
   "name": "python",
   "nbconvert_exporter": "python",
   "pygments_lexer": "ipython3",
   "version": "3.7.6"
  }
 },
 "nbformat": 4,
 "nbformat_minor": 4
}
